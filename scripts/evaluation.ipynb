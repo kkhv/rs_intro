{
 "cells": [
  {
   "cell_type": "code",
   "execution_count": 1,
   "metadata": {},
   "outputs": [],
   "source": [
    "import pandas as pd\n",
    "import numpy as np\n",
    "from tqdm import tqdm"
   ]
  },
  {
   "cell_type": "code",
   "execution_count": 2,
   "metadata": {},
   "outputs": [],
   "source": [
    "test_df = pd.read_pickle('../data/test.pkl')\n",
    "test_df = test_df.sort_values(['userId', 'rating'], ascending=False)\n",
    "test_series = test_df.groupby('userId').movieId.apply(set)"
   ]
  },
  {
   "cell_type": "code",
   "execution_count": 3,
   "metadata": {},
   "outputs": [],
   "source": [
    "def ndcg_calculator(rec, gt):\n",
    "    icdg = sum((1.0 / np.log(i + 2) for i in range(20)))\n",
    "    return sum([1.0 / np.log(idx + 2) for idx, item in enumerate(rec) if item in gt]) / icdg\n",
    "\n",
    "def evaluater(file_name):\n",
    "    '''주어진 파일이 userId:[추천 아이템 리스트] 형식이라고 가정'''\n",
    "    \n",
    "    submit = pd.read_pickle(f'../data/{file_name}.pkl')\n",
    "    \n",
    "\n",
    "    submit = pd.concat([test_series, submit], axis=1)\n",
    "    submit.columns = ['gt', 'rec']\n",
    "    \n",
    "    ndcgs = []\n",
    "    for idx, row in tqdm(submit.iterrows(), total=len(submit)):\n",
    "        ndcgs.append(ndcg_calculator(row['gt'], row.rec))\n",
    "    print(f\"mean nDCG: {np.mean(ndcgs):.4f}\")"
   ]
  },
  {
   "cell_type": "markdown",
   "metadata": {},
   "source": [
    "### evaluate ALS"
   ]
  },
  {
   "cell_type": "code",
   "execution_count": 4,
   "metadata": {},
   "outputs": [
    {
     "name": "stderr",
     "output_type": "stream",
     "text": [
      "100%|██████████| 138493/138493 [00:19<00:00, 7156.97it/s]"
     ]
    },
    {
     "name": "stdout",
     "output_type": "stream",
     "text": [
      "mean nDCG: 0.1628\n"
     ]
    },
    {
     "name": "stderr",
     "output_type": "stream",
     "text": [
      "\n"
     ]
    }
   ],
   "source": [
    "evaluater('submit_als')"
   ]
  },
  {
   "cell_type": "markdown",
   "metadata": {},
   "source": [
    "### evaluate BPR"
   ]
  },
  {
   "cell_type": "code",
   "execution_count": 5,
   "metadata": {},
   "outputs": [
    {
     "name": "stderr",
     "output_type": "stream",
     "text": [
      "100%|██████████| 138493/138493 [00:18<00:00, 7326.59it/s]"
     ]
    },
    {
     "name": "stdout",
     "output_type": "stream",
     "text": [
      "mean nDCG: 0.1073\n"
     ]
    },
    {
     "name": "stderr",
     "output_type": "stream",
     "text": [
      "\n"
     ]
    }
   ],
   "source": [
    "evaluater('submit_bpr')"
   ]
  },
  {
   "cell_type": "markdown",
   "metadata": {},
   "source": [
    "### evaluate Hybrid\n",
    "- ALS + age & genre feature"
   ]
  },
  {
   "cell_type": "code",
   "execution_count": 4,
   "metadata": {},
   "outputs": [
    {
     "name": "stderr",
     "output_type": "stream",
     "text": [
      "100%|██████████| 138493/138493 [00:18<00:00, 7616.75it/s]"
     ]
    },
    {
     "name": "stdout",
     "output_type": "stream",
     "text": [
      "mean nDCG: 0.0215\n"
     ]
    },
    {
     "name": "stderr",
     "output_type": "stream",
     "text": [
      "\n"
     ]
    }
   ],
   "source": [
    "evaluater('submit_hybrid_rf')"
   ]
  }
 ],
 "metadata": {
  "kernelspec": {
   "display_name": "Python 3",
   "language": "python",
   "name": "python3"
  },
  "language_info": {
   "codemirror_mode": {
    "name": "ipython",
    "version": 3
   },
   "file_extension": ".py",
   "mimetype": "text/x-python",
   "name": "python",
   "nbconvert_exporter": "python",
   "pygments_lexer": "ipython3",
   "version": "3.7.4"
  }
 },
 "nbformat": 4,
 "nbformat_minor": 2
}
