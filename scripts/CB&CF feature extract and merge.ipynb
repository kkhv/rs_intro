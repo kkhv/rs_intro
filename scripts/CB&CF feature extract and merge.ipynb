{
 "cells": [
  {
   "cell_type": "code",
   "execution_count": 1,
   "metadata": {},
   "outputs": [],
   "source": [
    "import pandas as pd\n",
    "import numpy as np\n",
    "from tqdm import tqdm"
   ]
  },
  {
   "cell_type": "code",
   "execution_count": 2,
   "metadata": {},
   "outputs": [],
   "source": [
    "train_df = pd.read_pickle('../data/train.pkl')\n",
    "test_df = pd.read_pickle('../data/test.pkl')\n",
    "movies = pd.read_csv('../data/movie.csv')"
   ]
  },
  {
   "cell_type": "markdown",
   "metadata": {},
   "source": [
    "### CB features"
   ]
  },
  {
   "cell_type": "code",
   "execution_count": 3,
   "metadata": {},
   "outputs": [],
   "source": [
    "movies['year'] = movies.title.str.rstrip('\" ').str[-5:-1]\n",
    "\n",
    "years = []\n",
    "# 좋지 않은 코딩\n",
    "for i in movies.year: \n",
    "    try:\n",
    "        years.append(int(i))\n",
    "    except:\n",
    "        years.append(None)\n",
    "\n",
    "movies['years'] = years\n",
    "\n",
    "movies['ages'] = (int(train_df.timestamp.max()[:4]) - movies['years']).fillna(-1).astype(int)"
   ]
  },
  {
   "cell_type": "code",
   "execution_count": 4,
   "metadata": {},
   "outputs": [],
   "source": [
    "movie_genre = movies.set_index('movieId')\n",
    "movie_genre = movie_genre.loc[movie_genre.genres != '(no genres listed)', 'genres'].apply(lambda row: row.split(\"|\")).explode().reset_index()\n",
    "movie_genre = movie_genre.assign(value=1).pivot(index='movieId', columns='genres', values='value').fillna(0).astype(np.int8)"
   ]
  },
  {
   "cell_type": "code",
   "execution_count": 5,
   "metadata": {},
   "outputs": [],
   "source": [
    "CB_df = movies[['movieId', 'ages']].merge(movie_genre.reset_index(), on ='movieId', how='left')"
   ]
  },
  {
   "cell_type": "code",
   "execution_count": 6,
   "metadata": {},
   "outputs": [],
   "source": [
    "for col in CB_df.columns.drop(['movieId', 'ages']):\n",
    "    CB_df[col] = CB_df[col].fillna(0).astype(np.int8)"
   ]
  },
  {
   "cell_type": "markdown",
   "metadata": {},
   "source": [
    "### Load CF features"
   ]
  },
  {
   "cell_type": "code",
   "execution_count": 7,
   "metadata": {},
   "outputs": [],
   "source": [
    "user_factor_df = pd.read_pickle(\"../data/user_factor.pkl\")\n",
    "item_factor_df = pd.read_pickle(\"../data/item_factor.pkl\")"
   ]
  },
  {
   "cell_type": "code",
   "execution_count": 8,
   "metadata": {},
   "outputs": [],
   "source": [
    "user_factor_df.columns = [f\"user_{col}\" for col in user_factor_df.columns]\n",
    "user_factor_df = user_factor_df.reset_index().rename(columns={'index':'userId'})"
   ]
  },
  {
   "cell_type": "code",
   "execution_count": 9,
   "metadata": {},
   "outputs": [],
   "source": [
    "item_factor_df.columns = [f\"item_{col}\" for col in item_factor_df.columns]\n",
    "item_factor_df = item_factor_df.reset_index().rename(columns={'index':'movieId'})"
   ]
  },
  {
   "cell_type": "markdown",
   "metadata": {},
   "source": [
    "### Hybrid"
   ]
  },
  {
   "cell_type": "markdown",
   "metadata": {},
   "source": [
    "- CB features: year, genre\n",
    "- CF features: ALS로부터 뽑은 embedding vector"
   ]
  },
  {
   "cell_type": "markdown",
   "metadata": {},
   "source": [
    "- $y_{i, j}$ = i번 유저가, j번 영화를 볼 확률(classfication)  \n",
    "- $X_{i, j}$ = i번 유저의 20차원 embedding feature, j번 영화의 embedding feature, year, genre"
   ]
  },
  {
   "cell_type": "markdown",
   "metadata": {},
   "source": [
    "**Negative sampling**\n",
    "- y=1인 케이스에 대비하여, y=0인 케이스로 학습할 관측치를 뽑는 것\n",
    "- y=1인 경우: 인기가 많은 작품은 자주 등장하고, 인기가 적은 작품은 조금 등장할 것\n",
    "- y=0인 경우: 전체 아이템에 대해 같은 확률로 샘플링하게되면 -> 인기와 무관하게 등장빈도가 동일하겠죠\n",
    "  - 전체 아이템의 인기도를 고려하여 샘플을 해야함 -> 셔플 후 위부터 사용"
   ]
  },
  {
   "cell_type": "code",
   "execution_count": 10,
   "metadata": {},
   "outputs": [
    {
     "name": "stdout",
     "output_type": "stream",
     "text": [
      "<class 'pandas.core.frame.DataFrame'>\n",
      "Int64Index: 18058339 entries, 37 to 19999980\n",
      "Data columns (total 4 columns):\n",
      "userId       int32\n",
      "movieId      int32\n",
      "rating       int16\n",
      "timestamp    object\n",
      "dtypes: int16(1), int32(2), object(1)\n",
      "memory usage: 447.8+ MB\n"
     ]
    }
   ],
   "source": [
    "train_df.info()"
   ]
  },
  {
   "cell_type": "code",
   "execution_count": 11,
   "metadata": {},
   "outputs": [
    {
     "data": {
      "text/plain": [
       "(18058339, 4)"
      ]
     },
     "execution_count": 11,
     "metadata": {},
     "output_type": "execute_result"
    }
   ],
   "source": [
    "train_df.shape"
   ]
  },
  {
   "cell_type": "code",
   "execution_count": 12,
   "metadata": {},
   "outputs": [
    {
     "data": {
      "text/plain": [
       "72233356"
      ]
     },
     "execution_count": 12,
     "metadata": {},
     "output_type": "execute_result"
    }
   ],
   "source": [
    "18058339*4"
   ]
  },
  {
   "cell_type": "code",
   "execution_count": 13,
   "metadata": {
    "scrolled": true
   },
   "outputs": [
    {
     "name": "stderr",
     "output_type": "stream",
     "text": [
      "100%|██████████| 138493/138493 [10:21<00:00, 222.72it/s]\n"
     ]
    }
   ],
   "source": [
    "res = []\n",
    "negative_df = train_df.drop(['timestamp', 'userId'], axis=1).sample(frac=1)\n",
    "\n",
    "for userId, positive_samples in tqdm(train_df.drop('timestamp', axis=1).groupby('userId')):\n",
    "    n = len(positive_samples)\n",
    "    if len(negative_df) > 3*n:\n",
    "        res.append(pd.concat([positive_samples.assign(y=1), negative_df[:n*3].assign(userId=userId, y=0)], sort=False).drop_duplicates('movieId'))\n",
    "        negative_df = negative_df[n*3:]\n",
    "    else:\n",
    "        negative_df = train_df.drop(['timestamp', 'userId'], axis=1).sample(frac=1)"
   ]
  },
  {
   "cell_type": "markdown",
   "metadata": {},
   "source": [
    "### Merge CF / CB features"
   ]
  },
  {
   "cell_type": "code",
   "execution_count": 14,
   "metadata": {},
   "outputs": [],
   "source": [
    "df = pd.concat(res)"
   ]
  },
  {
   "cell_type": "code",
   "execution_count": 15,
   "metadata": {},
   "outputs": [],
   "source": [
    "df_merged = df.merge(CB_df, on='movieId')\n",
    "assert len(df) == len(df_merged)\n",
    "df = df_merged"
   ]
  },
  {
   "cell_type": "code",
   "execution_count": 16,
   "metadata": {},
   "outputs": [],
   "source": [
    "df_merged = df.merge(item_factor_df, on='movieId', how='left')\n",
    "assert len(df) == len(df_merged)\n",
    "df = df_merged"
   ]
  },
  {
   "cell_type": "code",
   "execution_count": 17,
   "metadata": {},
   "outputs": [],
   "source": [
    "df_merged = df.merge(user_factor_df, on='userId', how='left')\n",
    "assert len(df) == len(df_merged)\n",
    "df = df_merged"
   ]
  },
  {
   "cell_type": "code",
   "execution_count": 26,
   "metadata": {},
   "outputs": [],
   "source": [
    "df.userId = df.userId.astype(np.int32)\n",
    "df.rating = df.rating.astype(np.int8)\n",
    "df.y = df.y.astype(np.int8)\n",
    "df.ages = df.ages.astype(np.int16)"
   ]
  },
  {
   "cell_type": "code",
   "execution_count": 28,
   "metadata": {},
   "outputs": [],
   "source": [
    "df.to_pickle('../data/feature_df.pkl')"
   ]
  },
  {
   "cell_type": "code",
   "execution_count": 38,
   "metadata": {},
   "outputs": [
    {
     "data": {
      "text/plain": [
       "(54053430, 64)"
      ]
     },
     "execution_count": 38,
     "metadata": {},
     "output_type": "execute_result"
    }
   ],
   "source": [
    "df.shape"
   ]
  },
  {
   "cell_type": "markdown",
   "metadata": {},
   "source": [
    "### Merge to test"
   ]
  },
  {
   "cell_type": "code",
   "execution_count": 34,
   "metadata": {},
   "outputs": [],
   "source": [
    "candidate = pd.read_pickle('../data/als_candidate_150.pkl')\n",
    "\n",
    "candidate = candidate.explode().reset_index()\n",
    "candidate.columns = ['userId', 'movieId']"
   ]
  },
  {
   "cell_type": "code",
   "execution_count": 35,
   "metadata": {},
   "outputs": [],
   "source": [
    "candidate_merged = candidate.merge(CB_df, on='movieId')\n",
    "assert len(candidate) == len(candidate_merged)\n",
    "candidate = candidate_merged\n",
    "\n",
    "candidate_merged = candidate.merge(item_factor_df, on='movieId', how='left')\n",
    "assert len(candidate) == len(candidate_merged)\n",
    "candidate = candidate_merged\n",
    "\n",
    "candidate_merged = candidate.merge(user_factor_df, on='userId', how='left')\n",
    "assert len(candidate) == len(candidate_merged)\n",
    "candidate = candidate_merged"
   ]
  },
  {
   "cell_type": "code",
   "execution_count": 37,
   "metadata": {},
   "outputs": [],
   "source": [
    "candidate.to_pickle(\"../data/als_candidate_merged.pkl\")"
   ]
  },
  {
   "cell_type": "code",
   "execution_count": null,
   "metadata": {},
   "outputs": [],
   "source": []
  }
 ],
 "metadata": {
  "kernelspec": {
   "display_name": "Python 3",
   "language": "python",
   "name": "python3"
  },
  "language_info": {
   "codemirror_mode": {
    "name": "ipython",
    "version": 3
   },
   "file_extension": ".py",
   "mimetype": "text/x-python",
   "name": "python",
   "nbconvert_exporter": "python",
   "pygments_lexer": "ipython3",
   "version": "3.7.4"
  }
 },
 "nbformat": 4,
 "nbformat_minor": 2
}
